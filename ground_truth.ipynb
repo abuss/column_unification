{
 "cells": [
  {
   "cell_type": "code",
   "execution_count": 6,
   "metadata": {},
   "outputs": [],
   "source": [
    "import json\n",
    "import re\n",
    "from collections import defaultdict"
   ]
  },
  {
   "cell_type": "code",
   "execution_count": 2,
   "metadata": {},
   "outputs": [],
   "source": [
    "with open(\"od_edm_dataset_metadata.json\") as f:\n",
    "    mds = json.load(f)"
   ]
  },
  {
   "cell_type": "code",
   "execution_count": 3,
   "metadata": {},
   "outputs": [],
   "source": [
    "datasets = {}\n",
    "for ds in mds:\n",
    "    datasets[ds['id']] = ds"
   ]
  },
  {
   "cell_type": "code",
   "execution_count": 4,
   "metadata": {},
   "outputs": [
    {
     "name": "stdout",
     "output_type": "stream",
     "text": [
      "Total ds:  584\n",
      "Processed ds:  506\n"
     ]
    }
   ],
   "source": [
    "n_of_words = 4\n",
    "column_info = []\n",
    "n = 0\n",
    "for ds in mds:\n",
    "    if 'survey' not in ds['tags']:\n",
    "        n+=1\n",
    "        for col in ds['columns']:\n",
    "            cname = col['name'].strip().replace('_',' ')\n",
    "            if not re.match(r\".+[0-9]+\",cname):\n",
    "                if len(cname.split(' '))<=n_of_words:\n",
    "                    entry = {'id':cname, 'dataset':ds['id'], 'type':col['type'], 'desc':col['description']}\n",
    "                    column_info.append(entry)\n",
    "print(\"Total ds: \",len(mds))\n",
    "print(\"Processed ds: \",n)"
   ]
  },
  {
   "cell_type": "code",
   "execution_count": 5,
   "metadata": {},
   "outputs": [],
   "source": [
    "import random\n",
    "\n",
    "pos_ds = random.sample(mds,200)"
   ]
  },
  {
   "cell_type": "code",
   "execution_count": 2,
   "metadata": {},
   "outputs": [],
   "source": [
    "import pandas as pd"
   ]
  },
  {
   "cell_type": "code",
   "execution_count": 7,
   "metadata": {},
   "outputs": [
    {
     "name": "stdout",
     "output_type": "stream",
     "text": [
      "Total ds:  200\n",
      "Processed ds:  171\n"
     ]
    }
   ],
   "source": [
    "n = 0\n",
    "names = ['id','type','desc','category','dataset','name']\n",
    "mat_ds = []\n",
    "for ds in pos_ds:\n",
    "    if 'survey' not in ds['tags']:\n",
    "        n+=1\n",
    "        for col in ds['columns']:\n",
    "            cname = col['name'].strip().replace('_',' ')\n",
    "            if not re.match(r\".+[0-9]+\",cname):\n",
    "                if len(cname.split(' '))<=n_of_words:\n",
    "                    entry = {'id':cname, 'dataset':ds['id'], 'type':col['type'], 'desc':col['description'],'name':ds['name'],'category':\"\"}\n",
    "                    row = [entry[nm] for nm in names]\n",
    "                    mat_ds.append(row)\n",
    "print(\"Total ds: \",len(pos_ds))\n",
    "print(\"Processed ds: \",n)\n",
    "ds_df = pd.DataFrame(mat_ds,columns=names)"
   ]
  },
  {
   "cell_type": "code",
   "execution_count": 9,
   "metadata": {},
   "outputs": [],
   "source": [
    "ds_df.to_csv('golden_ground_no_cat.csv',index=False)"
   ]
  },
  {
   "cell_type": "code",
   "execution_count": 3,
   "metadata": {},
   "outputs": [],
   "source": [
    "golden_ground_df = pd.read_csv(\"manual_category_concept.csv\")\n",
    "golden_ground = golden_ground_df[pd.notna(golden_ground_df.concept)].copy()"
   ]
  },
  {
   "cell_type": "code",
   "execution_count": 4,
   "metadata": {},
   "outputs": [],
   "source": [
    "names = golden_ground.columns\n",
    "ground = []\n",
    "cat_cluster = {}\n",
    "concept_cluster = {}\n",
    "for row in golden_ground.as_matrix():\n",
    "    rdict = dict(zip(names,row))\n",
    "    cat = rdict['category']\n",
    "    cat_cluster.setdefault(cat,[])\n",
    "    cat_cluster[cat].append(rdict)\n",
    "    conc = rdict['concept']\n",
    "    concept_cluster.setdefault(conc,[])\n",
    "    concept_cluster[conc].append(rdict)\n",
    "    ground.append(rdict)"
   ]
  },
  {
   "cell_type": "code",
   "execution_count": 7,
   "metadata": {},
   "outputs": [],
   "source": [
    "with open(\"ground.json\",'w') as f:\n",
    "    json.dump(ground,f,indent=4)\n",
    "with open(\"ground_by_cat.json\",'w') as f:\n",
    "    json.dump(cat_cluster,f,indent=4)\n",
    "with open(\"ground_by_concept.json\",'w') as f:\n",
    "    json.dump(concept_cluster,f,indent=4)\n",
    "    "
   ]
  },
  {
   "cell_type": "code",
   "execution_count": null,
   "metadata": {},
   "outputs": [],
   "source": []
  }
 ],
 "metadata": {
  "kernelspec": {
   "display_name": "Python 3",
   "language": "python",
   "name": "python3"
  }
 },
 "nbformat": 4,
 "nbformat_minor": 2
}
